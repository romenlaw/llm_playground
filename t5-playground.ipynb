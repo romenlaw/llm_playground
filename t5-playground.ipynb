{
  "cells": [
    {
      "cell_type": "code",
      "source": [
        "import numpy as np\n",
        "import pandas as pd\n",
        "from datasets import load_dataset\n",
        "from transformers import (\n",
        "    T5Tokenizer, T5ForConditionalGeneration, Trainer, TrainingArguments, DataCollatorWithPadding\n",
        ")"
      ],
      "metadata": {
        "id": "Amf3sg9zTGZQ"
      },
      "id": "Amf3sg9zTGZQ",
      "execution_count": null,
      "outputs": []
    },
    {
      "cell_type": "markdown",
      "source": [
        "# Prepare dataset"
      ],
      "metadata": {
        "id": "GPKk7-3BTKT6"
      },
      "id": "GPKk7-3BTKT6"
    },
    {
      "cell_type": "code",
      "source": [
        "dataset = load_dataset(\"sealuzh/app_reviews\", split=\"train\")\n",
        "dataset.to_pandas().sample(10)"
      ],
      "metadata": {
        "id": "E9XCHoV9THfx"
      },
      "id": "E9XCHoV9THfx",
      "execution_count": null,
      "outputs": []
    },
    {
      "cell_type": "code",
      "source": [
        "wanted_features = [\"package_name\", \"review\", \"star\"]\n",
        "dataset = dataset.remove_columns([x for x in dataset.features if x not in wanted_features])\n",
        "dataset.to_pandas().sample(10)\n",
        "len(dataset)"
      ],
      "metadata": {
        "id": "VPd0JMJ6TN_t"
      },
      "id": "VPd0JMJ6TN_t",
      "execution_count": null,
      "outputs": []
    },
    {
      "cell_type": "code",
      "source": [
        "dataset = dataset.shuffle().select(range(100000))\n",
        "len(dataset)"
      ],
      "metadata": {
        "id": "OINyygpXTTM6"
      },
      "id": "OINyygpXTTM6",
      "execution_count": null,
      "outputs": []
    },
    {
      "cell_type": "code",
      "source": [
        "dataset = dataset.class_encode_column(\"star\")\n",
        "dataset = dataset.train_test_split(test_size=0.1, seed=42, stratify_by_column=\"star\")"
      ],
      "metadata": {
        "id": "AEmDchE1TZju"
      },
      "id": "AEmDchE1TZju",
      "execution_count": null,
      "outputs": []
    },
    {
      "cell_type": "code",
      "source": [
        "dataset, len(dataset['train']), dataset['train'].to_pandas().sample(10)"
      ],
      "metadata": {
        "id": "_ecpvmMRTcx8"
      },
      "id": "_ecpvmMRTcx8",
      "execution_count": null,
      "outputs": []
    },
    {
      "cell_type": "code",
      "source": [
        "train_dataset = dataset['train']\n",
        "test_dataset = dataset['test']"
      ],
      "metadata": {
        "id": "xg8j22KXTpFv"
      },
      "id": "xg8j22KXTpFv",
      "execution_count": null,
      "outputs": []
    },
    {
      "cell_type": "markdown",
      "source": [
        "# Training"
      ],
      "metadata": {
        "id": "SEkHuNFUThXb"
      },
      "id": "SEkHuNFUThXb"
    },
    {
      "cell_type": "code",
      "source": [
        "MODEL_NAME = \"t5-base\"\n",
        "tokenizer = T5Tokenizer.from_pretrained(MODEL_NAME)\n",
        "\n",
        "def preprocess_data(samples):\n",
        "    # we create a prefix \"review:\" for the model\n",
        "    samples['prompt'] = [f\"review: {package_name}, {star} Stars!\" \\\n",
        "                         for package_name, star in zip(samples['package_name'], samples['star'])]\n",
        "    samples['response'] = [f\"{review}\" for review in samples['review']]\n",
        "    inputs = tokenizer(samples['prompt'], padding=\"max_length\", truncation=True, max_length=128)\n",
        "    targets = tokenizer(samples['response'], padding=\"max_length\", truncation=True, max_length=128)\n",
        "    inputs.update({'labels': targets['input_ids']})\n",
        "\n",
        "    return inputs"
      ],
      "metadata": {
        "id": "MYQAPw1lUFSc"
      },
      "id": "MYQAPw1lUFSc",
      "execution_count": null,
      "outputs": []
    },
    {
      "cell_type": "code",
      "source": [
        "train_dataset = train_dataset.map(preprocess_data, batched=True)\n",
        "test_dataset = test_dataset.map(preprocess_data, batched=True)"
      ],
      "metadata": {
        "id": "WoLaKmSfUMiA"
      },
      "id": "WoLaKmSfUMiA",
      "execution_count": null,
      "outputs": []
    },
    {
      "cell_type": "code",
      "source": [
        "data_collator = DataCollatorWithPadding(tokenizer=tokenizer)\n",
        "model = T5ForConditionalGeneration.from_pretrained(MODEL_NAME)\n",
        "\n",
        "TRAINING_OUTPUT=\"./t5_fine-tuned-reviews\"\n",
        "training_args = TrainingArguments(\n",
        "    output_dir = TRAINING_OUTPUT,\n",
        "    num_train_epochs = 3,\n",
        "    per_device_train_batch_size = 12,\n",
        "    per_device_eval_batch_size = 12,\n",
        "    save_strategy = \"epoch\",\n",
        ")\n",
        "trainer = Trainer(\n",
        "    model =  model,\n",
        "    args = training_args,\n",
        "    train_dataset = train_dataset,\n",
        "    data_collator = data_collator\n",
        ")"
      ],
      "metadata": {
        "id": "tktuRZetTi9F"
      },
      "id": "tktuRZetTi9F",
      "execution_count": null,
      "outputs": []
    },
    {
      "cell_type": "code",
      "source": [
        "model"
      ],
      "metadata": {
        "id": "BWRQO07rTuVq"
      },
      "id": "BWRQO07rTuVq",
      "execution_count": null,
      "outputs": []
    },
    {
      "cell_type": "code",
      "source": [
        "trainer.train()"
      ],
      "metadata": {
        "id": "ismXTEy3T93r"
      },
      "id": "ismXTEy3T93r",
      "execution_count": null,
      "outputs": []
    },
    {
      "cell_type": "markdown",
      "source": [
        "# Inference"
      ],
      "metadata": {
        "id": "zvNh3o6-UUEd"
      },
      "id": "zvNh3o6-UUEd"
    },
    {
      "cell_type": "code",
      "source": [
        "def generate_review(text):\n",
        "    inputs = tokenizer(\"review: \" + text, return_tensors='pt', max_length=512, padding=\"max_length\", truncation=True)\n",
        "    # no_repeat_ngrams make the model respond at least 3 words\n",
        "    # num_beams controls the quality of output by allowing model to think longer (exploring more answers and choose one)\n",
        "    # early_stopping allows model to give shorter response if it believes it's good enough already\n",
        "    outputs = model.generate(inputs['input_ids'], max_length=128,\n",
        "                             no_repeat_ngram_size=3, num_beams=6, early_stopping=True)\n",
        "    review = tokenizer.decode(outputs[0], skip_special_tokens=True)\n",
        "    return review"
      ],
      "metadata": {
        "id": "sBYO8mNDUVdZ"
      },
      "id": "sBYO8mNDUVdZ",
      "execution_count": null,
      "outputs": []
    },
    {
      "cell_type": "code",
      "source": [
        "random_product = test_dataset.shuffle(42).select(range(10))['package_name']\n",
        "generate_review(random_product[1] + \", 5 Stars!\")"
      ],
      "metadata": {
        "id": "IqZQk6WtUfXG"
      },
      "id": "IqZQk6WtUfXG",
      "execution_count": null,
      "outputs": []
    }
  ],
  "metadata": {
    "kernelspec": {
      "display_name": "Python 3",
      "language": "python",
      "name": "python3"
    },
    "language_info": {
      "codemirror_mode": {
        "name": "ipython",
        "version": 3
      },
      "file_extension": ".py",
      "mimetype": "text/x-python",
      "name": "python",
      "nbconvert_exporter": "python",
      "pygments_lexer": "ipython3",
      "version": "3.8.10"
    },
    "colab": {
      "provenance": []
    }
  },
  "nbformat": 4,
  "nbformat_minor": 5
}